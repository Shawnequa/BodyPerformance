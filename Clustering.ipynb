{
  "nbformat": 4,
  "nbformat_minor": 0,
  "metadata": {
    "colab": {
      "provenance": [],
      "authorship_tag": "ABX9TyMLGytrLeKwEvDojqfWk+Vd",
      "include_colab_link": true
    },
    "kernelspec": {
      "name": "python3",
      "display_name": "Python 3"
    },
    "language_info": {
      "name": "python"
    }
  },
  "cells": [
    {
      "cell_type": "markdown",
      "metadata": {
        "id": "view-in-github",
        "colab_type": "text"
      },
      "source": [
        "<a href=\"https://colab.research.google.com/github/Shawnequa/BodyPerformance/blob/main/Clustering.ipynb\" target=\"_parent\"><img src=\"https://colab.research.google.com/assets/colab-badge.svg\" alt=\"Open In Colab\"/></a>"
      ]
    },
    {
      "cell_type": "markdown",
      "source": [
        "Reference Information & Descriptions"
      ],
      "metadata": {
        "id": "dsC9U1BYPwhd"
      }
    },
    {
      "cell_type": "code",
      "execution_count": null,
      "metadata": {
        "id": "jPX33BtW4YN-"
      },
      "outputs": [],
      "source": [
        "# This colab notebook provides an analysis of Body performance Data\n",
        "# This dataset can be acquired from this link: https://www.kaggle.com/datasets/kukuroo3/body-performance-data"
      ]
    },
    {
      "cell_type": "code",
      "source": [
        "import pandas as pd\n",
        "import numpy as np\n",
        "import matplotlib.pyplot as plt\n",
        "import seaborn as sns\n",
        "\n",
        "from sklearn.preprocessing import StandardScaler\n",
        "from sklearn.cluster import KMeans\n",
        "from sklearn.metrics import silhouette_score\n",
        "from sklearn.decomposition import PCA"
      ],
      "metadata": {
        "id": "LaAOljC-5Psl"
      },
      "execution_count": null,
      "outputs": []
    },
    {
      "cell_type": "markdown",
      "source": [
        "Data Ingestion"
      ],
      "metadata": {
        "id": "zlHWQLCkAWbX"
      }
    },
    {
      "cell_type": "code",
      "source": [
        "df = pd.read_csv('/content/bodyPerformance.csv')"
      ],
      "metadata": {
        "id": "9pwyBu2l5jrb"
      },
      "execution_count": null,
      "outputs": []
    },
    {
      "cell_type": "markdown",
      "source": [
        "Set Display Options for Data Inspection"
      ],
      "metadata": {
        "id": "v5V1cAFm6i1m"
      }
    },
    {
      "cell_type": "code",
      "source": [
        "pd.set_option('display.max_columns', 40)"
      ],
      "metadata": {
        "id": "23iHuag76h46"
      },
      "execution_count": null,
      "outputs": []
    },
    {
      "cell_type": "code",
      "source": [
        "pd.set_option('display.max_rows', 40)"
      ],
      "metadata": {
        "id": "nrj5omsh6smE"
      },
      "execution_count": null,
      "outputs": []
    },
    {
      "cell_type": "markdown",
      "source": [
        "Initial Inspection & Data Cleansing"
      ],
      "metadata": {
        "id": "u-uID2aqAeYI"
      }
    },
    {
      "cell_type": "code",
      "source": [
        "print(df.head())\n",
        "print(df.info())\n",
        "print(df.describe())"
      ],
      "metadata": {
        "id": "LTTaiaNZ0YFf"
      },
      "execution_count": null,
      "outputs": []
    },
    {
      "cell_type": "markdown",
      "source": [
        "Drop Catergorical Variables"
      ],
      "metadata": {
        "id": "Cu50mPxCDysO"
      }
    },
    {
      "cell_type": "code",
      "source": [
        "df = df.drop(['gender', 'class'], axis=1)"
      ],
      "metadata": {
        "id": "t9bV6zDwFZpj"
      },
      "execution_count": null,
      "outputs": []
    },
    {
      "cell_type": "markdown",
      "source": [
        "Check for missing values"
      ],
      "metadata": {
        "id": "2Kc8UygIFtfh"
      }
    },
    {
      "cell_type": "code",
      "source": [
        "df.isna().sum()"
      ],
      "metadata": {
        "id": "bUjrxWIPFwGb"
      },
      "execution_count": null,
      "outputs": []
    },
    {
      "cell_type": "markdown",
      "source": [
        "Data Exploration - Basic Statistics"
      ],
      "metadata": {
        "id": "_HfGEZzNF7Td"
      }
    },
    {
      "cell_type": "code",
      "source": [
        "print(df.describe())"
      ],
      "metadata": {
        "id": "aGY2wmm9Ezxl"
      },
      "execution_count": null,
      "outputs": []
    },
    {
      "cell_type": "markdown",
      "source": [
        "Correlation Heatmap"
      ],
      "metadata": {
        "id": "iqVteGhpHe0h"
      }
    },
    {
      "cell_type": "code",
      "source": [
        "sns.set(rc = {'figure.figsize':(15,8)})\n",
        "sns.heatmap(df.corr().abs(), annot = True, cmap = 'coolwarm')\n",
        "plt.title('Correlation Heatmap')\n",
        "plt.show()"
      ],
      "metadata": {
        "id": "6d-sf8Y9Hd8T"
      },
      "execution_count": null,
      "outputs": []
    },
    {
      "cell_type": "markdown",
      "source": [
        "Clustering Analysis\n",
        "Scaling the Data"
      ],
      "metadata": {
        "id": "pycvaAaYKNWo"
      }
    },
    {
      "cell_type": "code",
      "source": [
        "scaler = StandardScaler()\n",
        "df_scaled = scaler.fit_transform(df)"
      ],
      "metadata": {
        "id": "HnuMyJJ328_K"
      },
      "execution_count": null,
      "outputs": []
    },
    {
      "cell_type": "markdown",
      "source": [
        "Elbow Method for Optimal Clusters"
      ],
      "metadata": {
        "id": "gMdywZ-Q3Lcp"
      }
    },
    {
      "cell_type": "code",
      "source": [
        "wss = []\n",
        "for i in range (1,10):\n",
        "  km = KMeans(n_clusters = i, init='k-means++', random_state=42)\n",
        "  km.fit(df)\n",
        "  wss.append(km.inertia_)\n",
        "\n",
        "plt.plot(range(1,10), wss)\n",
        "plt.title('The Elbow Method')\n",
        "plt.xlabel('The Number of Clusters')\n",
        "plt.ylabel('Sum of Squared Distances')\n",
        "plt.show()"
      ],
      "metadata": {
        "id": "X6q2uB_BKu27"
      },
      "execution_count": null,
      "outputs": []
    },
    {
      "cell_type": "markdown",
      "metadata": {
        "id": "cd8efe98"
      },
      "source": [
        "Silhouette Scores for Different Clusters"
      ]
    },
    {
      "cell_type": "code",
      "execution_count": null,
      "metadata": {
        "id": "e743b663"
      },
      "outputs": [],
      "source": [
        "silhouette_coefficients = []\n",
        "for i in range(2,10):\n",
        "    km = KMeans(n_clusters = i, max_iter=100)\n",
        "    km.fit(df)\n",
        "    score = silhouette_score(df, km.labels_)\n",
        "    silhouette_coefficients.append(score)\n",
        "\n",
        "plt.plot(range(2,10), silhouette_coefficients)\n",
        "plt.xticks(range(2,10))\n",
        "plt.xlabel('Number of Clusters')\n",
        "plt.ylabel('Silhouette Coefficient')\n",
        "plt.show()\n"
      ]
    },
    {
      "cell_type": "markdown",
      "metadata": {
        "id": "bba388d7"
      },
      "source": [
        "Dimensionality Reduction using PCA"
      ]
    },
    {
      "cell_type": "code",
      "execution_count": null,
      "metadata": {
        "id": "b60b8839"
      },
      "outputs": [],
      "source": [
        "pca = PCA()\n",
        "X = pca.fit_transform(df_scaled)"
      ]
    },
    {
      "cell_type": "markdown",
      "metadata": {
        "id": "88aded24"
      },
      "source": [
        "KMean Clustering with Chosen Number of Clusters"
      ]
    },
    {
      "cell_type": "code",
      "execution_count": null,
      "metadata": {
        "id": "3c4d0717"
      },
      "outputs": [],
      "source": [
        "km = KMeans(n_clusters=3)\n",
        "label = km.fit_predict(X)\n",
        "unique_labels = np.unique(label)"
      ]
    },
    {
      "cell_type": "markdown",
      "metadata": {
        "id": "803e52d5"
      },
      "source": [
        "Visualizing Clusters"
      ]
    },
    {
      "cell_type": "code",
      "execution_count": null,
      "metadata": {
        "id": "c50893ec"
      },
      "outputs": [],
      "source": [
        "for i in unique_labels:\n",
        "    plt.scatter(X[label==i,0], X[label==i,1], label=i)\n",
        "\n",
        "plt.legend()\n",
        "plt.title('Body Performance Clusters')\n",
        "plt.show()"
      ]
    }
  ]
}